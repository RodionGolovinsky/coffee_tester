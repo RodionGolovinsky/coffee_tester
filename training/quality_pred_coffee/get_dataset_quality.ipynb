{
 "cells": [
  {
   "cell_type": "code",
   "execution_count": 2,
   "id": "initial_id",
   "metadata": {
    "collapsed": true,
    "ExecuteTime": {
     "end_time": "2023-08-29T08:17:34.545917654Z",
     "start_time": "2023-08-29T08:17:34.376516152Z"
    }
   },
   "outputs": [
    {
     "data": {
      "text/plain": "<module 'secondary_functions.load_card' from '/home/rodion/PycharmProjects/coffee/secondary_functions/load_card.py'>"
     },
     "execution_count": 2,
     "metadata": {},
     "output_type": "execute_result"
    }
   ],
   "source": [
    "import pandas as pd\n",
    "import importlib\n",
    "import secondary_functions.load_card as sf\n",
    "from secondary_functions.concat_card_curves import concat_card_curves\n",
    "import os\n",
    "\n",
    "importlib.reload(sf)"
   ]
  },
  {
   "cell_type": "code",
   "execution_count": 50,
   "outputs": [
    {
     "data": {
      "text/plain": "     number_of_sample   Дегустатор  \\\n0                   1   Леонова Т.   \n1                   2   Леонова Т.   \n2                   2  Нестеров А.   \n3                   3   Леонова Т.   \n4                   3  Нестеров А.   \n..                ...          ...   \n140               102   Леонова Т.   \n141               103   Леонова Т.   \n142               104   Леонова Т.   \n143               105   Леонова Т.   \n144               106   Леонова Т.   \n\n                                               Аромат  балл_аромат  \\\n0                орех. какао. карамель. цитрус. цветы         8.00   \n1                                        орехи. ягоды         7.25   \n2                               малина. шоколад. изюм         8.00   \n3          амаретто. бородинский. смородина. карамель         8.25   \n4    табак. шоколадное печенье. солод. темный шоколад         6.50   \n..                                                ...          ...   \n140                  низкая читаемость. без специфики         6.00   \n141                  низкая читаемость. без специфики         6.00   \n142                  низкая читаемость. без специфики         6.00   \n143                  низкая читаемость. без специфики         6.00   \n144                  низкая читаемость. без специфики         6.00   \n\n                                          Букет  балл_букет  \\\n0                      яблоко. цитрус. карамель        7.00   \n1                     алкоголь. виноград. ореха        7.75   \n2      горький щоколад. персик. хурма. клубника        7.75   \n3    амаретто. бородинский. смородина. карамель        8.25   \n4     черный хлеб. карамель. тростниковый сахар        6.00   \n..                                          ...         ...   \n140            низкая читаемость. без специфики        6.00   \n141            низкая читаемость. без специфики        6.00   \n142            низкая читаемость. без специфики        6.00   \n143            низкая читаемость. без специфики        6.00   \n144            низкая читаемость. без специфики        6.00   \n\n                                Послевкусие  балл_послевкусие  \\\n0                короткое. фруктовое. какао              7.00   \n1                       сильное алкогольное              6.25   \n2                  среднее. карамель. вяжет              7.50   \n3                     среднепродолжительное              7.00   \n4                среднее. булочка с сахаром              6.75   \n..                                      ...               ...   \n140                                 среднее              6.00   \n141  выражен характером пережаренных орехов              6.00   \n142                          выражено слабо              6.00   \n143                          выражено слабо              6.00   \n144                          выражено слабо              6.00   \n\n                    Кислотность  Интенсивность_кислотности  балл_кислотность  \\\n0           средняя. цитрусовая                        2.0              7.25   \n1        ниже средней. уксусная                        1.0              6.75   \n2    низкая. молочная и ягодная                        NaN              7.00   \n3        ниже средней. яблочная                        1.0              7.75   \n4                        низкая                        NaN              7.00   \n..                          ...                        ...               ...   \n140                      низкая                        0.0              6.00   \n141               ниже среднего                        1.0              6.00   \n142                      низкая                        0.0              6.00   \n143                      низкая                        0.0              6.00   \n144               ниже сраднего                        1.0              6.00   \n\n                        Сладость  Интенсивность_сладости  балл_сладость  \\\n0              средняя. карамель                     2.0           7.25   \n1    низкая. перебродившие ягоды                     0.0           6.00   \n2                        средняя                     NaN           8.00   \n3             фруктовая. средняя                     2.0           7.75   \n4                        средняя                     NaN           6.50   \n..                           ...                     ...            ...   \n140       низкая. слабо выражена                     0.0           6.00   \n141       низкая. слабо выражена                     0.0           6.00   \n142       низкая. слабо выражена                     0.0           6.00   \n143       низкая. слабо выражена                     0.0           6.00   \n144       низкая. слабо выражена                     0.0           6.00   \n\n                    Горечь  Интенсивность_горечи  балл_горечь  \\\n0                   низкая                   0.0         7.00   \n1            выше среднего                   3.0         6.75   \n2                  средняя                   NaN         6.75   \n3         низкая. приятная                   0.0         7.75   \n4             ниже средней                   NaN         6.50   \n..                     ...                   ...          ...   \n140                средняя                   2.0         6.00   \n141                средняя                   2.0         6.00   \n142          выше среднего                   3.0         6.00   \n143          выше среднего                   3.0         6.00   \n144  выраженная неприятная                   3.0         6.00   \n\n                                  Тело  балл_тело  \n0                       обволакивающее       7.00  \n1                                сушит       6.00  \n2        среднее. обволакивает. рыхлое       8.00  \n3               чистое. обволакивающее       8.00  \n4    ниже средней. гладкое бархатистое       6.75  \n..                                 ...        ...  \n140                             пустое       6.00  \n141                        маслянистый       6.00  \n142                             пустое       6.00  \n143                             пустое       6.00  \n144                             пустое       6.00  \n\n[145 rows x 19 columns]",
      "text/html": "<div>\n<style scoped>\n    .dataframe tbody tr th:only-of-type {\n        vertical-align: middle;\n    }\n\n    .dataframe tbody tr th {\n        vertical-align: top;\n    }\n\n    .dataframe thead th {\n        text-align: right;\n    }\n</style>\n<table border=\"1\" class=\"dataframe\">\n  <thead>\n    <tr style=\"text-align: right;\">\n      <th></th>\n      <th>number_of_sample</th>\n      <th>Дегустатор</th>\n      <th>Аромат</th>\n      <th>балл_аромат</th>\n      <th>Букет</th>\n      <th>балл_букет</th>\n      <th>Послевкусие</th>\n      <th>балл_послевкусие</th>\n      <th>Кислотность</th>\n      <th>Интенсивность_кислотности</th>\n      <th>балл_кислотность</th>\n      <th>Сладость</th>\n      <th>Интенсивность_сладости</th>\n      <th>балл_сладость</th>\n      <th>Горечь</th>\n      <th>Интенсивность_горечи</th>\n      <th>балл_горечь</th>\n      <th>Тело</th>\n      <th>балл_тело</th>\n    </tr>\n  </thead>\n  <tbody>\n    <tr>\n      <th>0</th>\n      <td>1</td>\n      <td>Леонова Т.</td>\n      <td>орех. какао. карамель. цитрус. цветы</td>\n      <td>8.00</td>\n      <td>яблоко. цитрус. карамель</td>\n      <td>7.00</td>\n      <td>короткое. фруктовое. какао</td>\n      <td>7.00</td>\n      <td>средняя. цитрусовая</td>\n      <td>2.0</td>\n      <td>7.25</td>\n      <td>средняя. карамель</td>\n      <td>2.0</td>\n      <td>7.25</td>\n      <td>низкая</td>\n      <td>0.0</td>\n      <td>7.00</td>\n      <td>обволакивающее</td>\n      <td>7.00</td>\n    </tr>\n    <tr>\n      <th>1</th>\n      <td>2</td>\n      <td>Леонова Т.</td>\n      <td>орехи. ягоды</td>\n      <td>7.25</td>\n      <td>алкоголь. виноград. ореха</td>\n      <td>7.75</td>\n      <td>сильное алкогольное</td>\n      <td>6.25</td>\n      <td>ниже средней. уксусная</td>\n      <td>1.0</td>\n      <td>6.75</td>\n      <td>низкая. перебродившие ягоды</td>\n      <td>0.0</td>\n      <td>6.00</td>\n      <td>выше среднего</td>\n      <td>3.0</td>\n      <td>6.75</td>\n      <td>сушит</td>\n      <td>6.00</td>\n    </tr>\n    <tr>\n      <th>2</th>\n      <td>2</td>\n      <td>Нестеров А.</td>\n      <td>малина. шоколад. изюм</td>\n      <td>8.00</td>\n      <td>горький щоколад. персик. хурма. клубника</td>\n      <td>7.75</td>\n      <td>среднее. карамель. вяжет</td>\n      <td>7.50</td>\n      <td>низкая. молочная и ягодная</td>\n      <td>NaN</td>\n      <td>7.00</td>\n      <td>средняя</td>\n      <td>NaN</td>\n      <td>8.00</td>\n      <td>средняя</td>\n      <td>NaN</td>\n      <td>6.75</td>\n      <td>среднее. обволакивает. рыхлое</td>\n      <td>8.00</td>\n    </tr>\n    <tr>\n      <th>3</th>\n      <td>3</td>\n      <td>Леонова Т.</td>\n      <td>амаретто. бородинский. смородина. карамель</td>\n      <td>8.25</td>\n      <td>амаретто. бородинский. смородина. карамель</td>\n      <td>8.25</td>\n      <td>среднепродолжительное</td>\n      <td>7.00</td>\n      <td>ниже средней. яблочная</td>\n      <td>1.0</td>\n      <td>7.75</td>\n      <td>фруктовая. средняя</td>\n      <td>2.0</td>\n      <td>7.75</td>\n      <td>низкая. приятная</td>\n      <td>0.0</td>\n      <td>7.75</td>\n      <td>чистое. обволакивающее</td>\n      <td>8.00</td>\n    </tr>\n    <tr>\n      <th>4</th>\n      <td>3</td>\n      <td>Нестеров А.</td>\n      <td>табак. шоколадное печенье. солод. темный шоколад</td>\n      <td>6.50</td>\n      <td>черный хлеб. карамель. тростниковый сахар</td>\n      <td>6.00</td>\n      <td>среднее. булочка с сахаром</td>\n      <td>6.75</td>\n      <td>низкая</td>\n      <td>NaN</td>\n      <td>7.00</td>\n      <td>средняя</td>\n      <td>NaN</td>\n      <td>6.50</td>\n      <td>ниже средней</td>\n      <td>NaN</td>\n      <td>6.50</td>\n      <td>ниже средней. гладкое бархатистое</td>\n      <td>6.75</td>\n    </tr>\n    <tr>\n      <th>...</th>\n      <td>...</td>\n      <td>...</td>\n      <td>...</td>\n      <td>...</td>\n      <td>...</td>\n      <td>...</td>\n      <td>...</td>\n      <td>...</td>\n      <td>...</td>\n      <td>...</td>\n      <td>...</td>\n      <td>...</td>\n      <td>...</td>\n      <td>...</td>\n      <td>...</td>\n      <td>...</td>\n      <td>...</td>\n      <td>...</td>\n      <td>...</td>\n    </tr>\n    <tr>\n      <th>140</th>\n      <td>102</td>\n      <td>Леонова Т.</td>\n      <td>низкая читаемость. без специфики</td>\n      <td>6.00</td>\n      <td>низкая читаемость. без специфики</td>\n      <td>6.00</td>\n      <td>среднее</td>\n      <td>6.00</td>\n      <td>низкая</td>\n      <td>0.0</td>\n      <td>6.00</td>\n      <td>низкая. слабо выражена</td>\n      <td>0.0</td>\n      <td>6.00</td>\n      <td>средняя</td>\n      <td>2.0</td>\n      <td>6.00</td>\n      <td>пустое</td>\n      <td>6.00</td>\n    </tr>\n    <tr>\n      <th>141</th>\n      <td>103</td>\n      <td>Леонова Т.</td>\n      <td>низкая читаемость. без специфики</td>\n      <td>6.00</td>\n      <td>низкая читаемость. без специфики</td>\n      <td>6.00</td>\n      <td>выражен характером пережаренных орехов</td>\n      <td>6.00</td>\n      <td>ниже среднего</td>\n      <td>1.0</td>\n      <td>6.00</td>\n      <td>низкая. слабо выражена</td>\n      <td>0.0</td>\n      <td>6.00</td>\n      <td>средняя</td>\n      <td>2.0</td>\n      <td>6.00</td>\n      <td>маслянистый</td>\n      <td>6.00</td>\n    </tr>\n    <tr>\n      <th>142</th>\n      <td>104</td>\n      <td>Леонова Т.</td>\n      <td>низкая читаемость. без специфики</td>\n      <td>6.00</td>\n      <td>низкая читаемость. без специфики</td>\n      <td>6.00</td>\n      <td>выражено слабо</td>\n      <td>6.00</td>\n      <td>низкая</td>\n      <td>0.0</td>\n      <td>6.00</td>\n      <td>низкая. слабо выражена</td>\n      <td>0.0</td>\n      <td>6.00</td>\n      <td>выше среднего</td>\n      <td>3.0</td>\n      <td>6.00</td>\n      <td>пустое</td>\n      <td>6.00</td>\n    </tr>\n    <tr>\n      <th>143</th>\n      <td>105</td>\n      <td>Леонова Т.</td>\n      <td>низкая читаемость. без специфики</td>\n      <td>6.00</td>\n      <td>низкая читаемость. без специфики</td>\n      <td>6.00</td>\n      <td>выражено слабо</td>\n      <td>6.00</td>\n      <td>низкая</td>\n      <td>0.0</td>\n      <td>6.00</td>\n      <td>низкая. слабо выражена</td>\n      <td>0.0</td>\n      <td>6.00</td>\n      <td>выше среднего</td>\n      <td>3.0</td>\n      <td>6.00</td>\n      <td>пустое</td>\n      <td>6.00</td>\n    </tr>\n    <tr>\n      <th>144</th>\n      <td>106</td>\n      <td>Леонова Т.</td>\n      <td>низкая читаемость. без специфики</td>\n      <td>6.00</td>\n      <td>низкая читаемость. без специфики</td>\n      <td>6.00</td>\n      <td>выражено слабо</td>\n      <td>6.00</td>\n      <td>ниже сраднего</td>\n      <td>1.0</td>\n      <td>6.00</td>\n      <td>низкая. слабо выражена</td>\n      <td>0.0</td>\n      <td>6.00</td>\n      <td>выраженная неприятная</td>\n      <td>3.0</td>\n      <td>6.00</td>\n      <td>пустое</td>\n      <td>6.00</td>\n    </tr>\n  </tbody>\n</table>\n<p>145 rows × 19 columns</p>\n</div>"
     },
     "execution_count": 50,
     "metadata": {},
     "output_type": "execute_result"
    }
   ],
   "source": [
    "path = '/home/rodion/PycharmProjects/coffee/Дегустация кофе 20.07 - Лист3 (копия) 1.csv'\n",
    "df = sf.load_card(path)\n",
    "df"
   ],
   "metadata": {
    "collapsed": false,
    "ExecuteTime": {
     "end_time": "2023-08-28T20:07:54.118381717Z",
     "start_time": "2023-08-28T20:07:54.074395406Z"
    }
   },
   "id": "10f254cb6eb8f673"
  },
  {
   "cell_type": "code",
   "execution_count": 51,
   "outputs": [
    {
     "name": "stderr",
     "output_type": "stream",
     "text": [
      "/tmp/ipykernel_14255/2025257625.py:2: SettingWithCopyWarning: \n",
      "A value is trying to be set on a copy of a slice from a DataFrame.\n",
      "Try using .loc[row_indexer,col_indexer] = value instead\n",
      "\n",
      "See the caveats in the documentation: https://pandas.pydata.org/pandas-docs/stable/user_guide/indexing.html#returning-a-view-versus-a-copy\n",
      "  df_tatiana['quality'] = df_tatiana[['балл_сладость', 'балл_горечь', 'балл_кислотность']].mean(axis=1)\n"
     ]
    },
    {
     "data": {
      "text/plain": "     number_of_sample  Дегустатор                                      Аромат  \\\n0                   1  Леонова Т.        орех. какао. карамель. цитрус. цветы   \n1                   2  Леонова Т.                                орехи. ягоды   \n3                   3  Леонова Т.  амаретто. бородинский. смородина. карамель   \n5                   4  Леонова Т.                                       орехи   \n7                   5  Леонова Т.                жасмин. лимон. красные ягоды   \n..                ...         ...                                         ...   \n140               102  Леонова Т.            низкая читаемость. без специфики   \n141               103  Леонова Т.            низкая читаемость. без специфики   \n142               104  Леонова Т.            низкая читаемость. без специфики   \n143               105  Леонова Т.            низкая читаемость. без специфики   \n144               106  Леонова Т.            низкая читаемость. без специфики   \n\n     балл_аромат                                       Букет  балл_букет  \\\n0           8.00                    яблоко. цитрус. карамель        7.00   \n1           7.25                   алкоголь. виноград. ореха        7.75   \n3           8.25  амаретто. бородинский. смородина. карамель        8.25   \n5           6.00                                орехи. какао        6.00   \n7           7.75   красные ягоды. мед. цветы. жасмин. цитрус        7.50   \n..           ...                                         ...         ...   \n140         6.00            низкая читаемость. без специфики        6.00   \n141         6.00            низкая читаемость. без специфики        6.00   \n142         6.00            низкая читаемость. без специфики        6.00   \n143         6.00            низкая читаемость. без специфики        6.00   \n144         6.00            низкая читаемость. без специфики        6.00   \n\n                                Послевкусие  балл_послевкусие  \\\n0                короткое. фруктовое. какао              7.00   \n1                       сильное алкогольное              6.25   \n3                     среднепродолжительное              7.00   \n5                             резкое. едкое              6.00   \n7                          среднее. ягодно-              7.50   \n..                                      ...               ...   \n140                                 среднее              6.00   \n141  выражен характером пережаренных орехов              6.00   \n142                          выражено слабо              6.00   \n143                          выражено слабо              6.00   \n144                          выражено слабо              6.00   \n\n                                        Кислотность  \\\n0                               средняя. цитрусовая   \n1                            ниже средней. уксусная   \n3                            ниже средней. яблочная   \n5    яркая. но некачественная. уксусная. цитрусовая   \n7                               средняя. цитрусовая   \n..                                              ...   \n140                                          низкая   \n141                                   ниже среднего   \n142                                          низкая   \n143                                          низкая   \n144                                   ниже сраднего   \n\n     Интенсивность_кислотности  балл_кислотность                     Сладость  \\\n0                          2.0              7.25            средняя. карамель   \n1                          1.0              6.75  низкая. перебродившие ягоды   \n3                          1.0              7.75           фруктовая. средняя   \n5                          4.0              7.00              низкая. ягодная   \n7                          2.0              7.00        выше средней. ягодная   \n..                         ...               ...                          ...   \n140                        0.0              6.00       низкая. слабо выражена   \n141                        1.0              6.00       низкая. слабо выражена   \n142                        0.0              6.00       низкая. слабо выражена   \n143                        0.0              6.00       низкая. слабо выражена   \n144                        1.0              6.00       низкая. слабо выражена   \n\n     Интенсивность_сладости  балл_сладость                 Горечь  \\\n0                       2.0           7.25                 низкая   \n1                       0.0           6.00          выше среднего   \n3                       2.0           7.75       низкая. приятная   \n5                       0.0           6.00                  едкая   \n7                       3.0           7.50                 низкая   \n..                      ...            ...                    ...   \n140                     0.0           6.00                средняя   \n141                     0.0           6.00                средняя   \n142                     0.0           6.00          выше среднего   \n143                     0.0           6.00          выше среднего   \n144                     0.0           6.00  выраженная неприятная   \n\n     Интенсивность_горечи  балл_горечь                    Тело  балл_тело  \\\n0                     0.0         7.00          обволакивающее       7.00   \n1                     3.0         6.75                   сушит       6.00   \n3                     0.0         7.75  чистое. обволакивающее       8.00   \n5                     2.0         6.00       округлое шершавое       6.25   \n7                     0.0         6.00                 гладкое       7.50   \n..                    ...          ...                     ...        ...   \n140                   2.0         6.00                  пустое       6.00   \n141                   2.0         6.00             маслянистый       6.00   \n142                   3.0         6.00                  пустое       6.00   \n143                   3.0         6.00                  пустое       6.00   \n144                   3.0         6.00                  пустое       6.00   \n\n      quality  \n0    7.166667  \n1    6.500000  \n3    7.750000  \n5    6.333333  \n7    6.833333  \n..        ...  \n140  6.000000  \n141  6.000000  \n142  6.000000  \n143  6.000000  \n144  6.000000  \n\n[91 rows x 20 columns]",
      "text/html": "<div>\n<style scoped>\n    .dataframe tbody tr th:only-of-type {\n        vertical-align: middle;\n    }\n\n    .dataframe tbody tr th {\n        vertical-align: top;\n    }\n\n    .dataframe thead th {\n        text-align: right;\n    }\n</style>\n<table border=\"1\" class=\"dataframe\">\n  <thead>\n    <tr style=\"text-align: right;\">\n      <th></th>\n      <th>number_of_sample</th>\n      <th>Дегустатор</th>\n      <th>Аромат</th>\n      <th>балл_аромат</th>\n      <th>Букет</th>\n      <th>балл_букет</th>\n      <th>Послевкусие</th>\n      <th>балл_послевкусие</th>\n      <th>Кислотность</th>\n      <th>Интенсивность_кислотности</th>\n      <th>балл_кислотность</th>\n      <th>Сладость</th>\n      <th>Интенсивность_сладости</th>\n      <th>балл_сладость</th>\n      <th>Горечь</th>\n      <th>Интенсивность_горечи</th>\n      <th>балл_горечь</th>\n      <th>Тело</th>\n      <th>балл_тело</th>\n      <th>quality</th>\n    </tr>\n  </thead>\n  <tbody>\n    <tr>\n      <th>0</th>\n      <td>1</td>\n      <td>Леонова Т.</td>\n      <td>орех. какао. карамель. цитрус. цветы</td>\n      <td>8.00</td>\n      <td>яблоко. цитрус. карамель</td>\n      <td>7.00</td>\n      <td>короткое. фруктовое. какао</td>\n      <td>7.00</td>\n      <td>средняя. цитрусовая</td>\n      <td>2.0</td>\n      <td>7.25</td>\n      <td>средняя. карамель</td>\n      <td>2.0</td>\n      <td>7.25</td>\n      <td>низкая</td>\n      <td>0.0</td>\n      <td>7.00</td>\n      <td>обволакивающее</td>\n      <td>7.00</td>\n      <td>7.166667</td>\n    </tr>\n    <tr>\n      <th>1</th>\n      <td>2</td>\n      <td>Леонова Т.</td>\n      <td>орехи. ягоды</td>\n      <td>7.25</td>\n      <td>алкоголь. виноград. ореха</td>\n      <td>7.75</td>\n      <td>сильное алкогольное</td>\n      <td>6.25</td>\n      <td>ниже средней. уксусная</td>\n      <td>1.0</td>\n      <td>6.75</td>\n      <td>низкая. перебродившие ягоды</td>\n      <td>0.0</td>\n      <td>6.00</td>\n      <td>выше среднего</td>\n      <td>3.0</td>\n      <td>6.75</td>\n      <td>сушит</td>\n      <td>6.00</td>\n      <td>6.500000</td>\n    </tr>\n    <tr>\n      <th>3</th>\n      <td>3</td>\n      <td>Леонова Т.</td>\n      <td>амаретто. бородинский. смородина. карамель</td>\n      <td>8.25</td>\n      <td>амаретто. бородинский. смородина. карамель</td>\n      <td>8.25</td>\n      <td>среднепродолжительное</td>\n      <td>7.00</td>\n      <td>ниже средней. яблочная</td>\n      <td>1.0</td>\n      <td>7.75</td>\n      <td>фруктовая. средняя</td>\n      <td>2.0</td>\n      <td>7.75</td>\n      <td>низкая. приятная</td>\n      <td>0.0</td>\n      <td>7.75</td>\n      <td>чистое. обволакивающее</td>\n      <td>8.00</td>\n      <td>7.750000</td>\n    </tr>\n    <tr>\n      <th>5</th>\n      <td>4</td>\n      <td>Леонова Т.</td>\n      <td>орехи</td>\n      <td>6.00</td>\n      <td>орехи. какао</td>\n      <td>6.00</td>\n      <td>резкое. едкое</td>\n      <td>6.00</td>\n      <td>яркая. но некачественная. уксусная. цитрусовая</td>\n      <td>4.0</td>\n      <td>7.00</td>\n      <td>низкая. ягодная</td>\n      <td>0.0</td>\n      <td>6.00</td>\n      <td>едкая</td>\n      <td>2.0</td>\n      <td>6.00</td>\n      <td>округлое шершавое</td>\n      <td>6.25</td>\n      <td>6.333333</td>\n    </tr>\n    <tr>\n      <th>7</th>\n      <td>5</td>\n      <td>Леонова Т.</td>\n      <td>жасмин. лимон. красные ягоды</td>\n      <td>7.75</td>\n      <td>красные ягоды. мед. цветы. жасмин. цитрус</td>\n      <td>7.50</td>\n      <td>среднее. ягодно-</td>\n      <td>7.50</td>\n      <td>средняя. цитрусовая</td>\n      <td>2.0</td>\n      <td>7.00</td>\n      <td>выше средней. ягодная</td>\n      <td>3.0</td>\n      <td>7.50</td>\n      <td>низкая</td>\n      <td>0.0</td>\n      <td>6.00</td>\n      <td>гладкое</td>\n      <td>7.50</td>\n      <td>6.833333</td>\n    </tr>\n    <tr>\n      <th>...</th>\n      <td>...</td>\n      <td>...</td>\n      <td>...</td>\n      <td>...</td>\n      <td>...</td>\n      <td>...</td>\n      <td>...</td>\n      <td>...</td>\n      <td>...</td>\n      <td>...</td>\n      <td>...</td>\n      <td>...</td>\n      <td>...</td>\n      <td>...</td>\n      <td>...</td>\n      <td>...</td>\n      <td>...</td>\n      <td>...</td>\n      <td>...</td>\n      <td>...</td>\n    </tr>\n    <tr>\n      <th>140</th>\n      <td>102</td>\n      <td>Леонова Т.</td>\n      <td>низкая читаемость. без специфики</td>\n      <td>6.00</td>\n      <td>низкая читаемость. без специфики</td>\n      <td>6.00</td>\n      <td>среднее</td>\n      <td>6.00</td>\n      <td>низкая</td>\n      <td>0.0</td>\n      <td>6.00</td>\n      <td>низкая. слабо выражена</td>\n      <td>0.0</td>\n      <td>6.00</td>\n      <td>средняя</td>\n      <td>2.0</td>\n      <td>6.00</td>\n      <td>пустое</td>\n      <td>6.00</td>\n      <td>6.000000</td>\n    </tr>\n    <tr>\n      <th>141</th>\n      <td>103</td>\n      <td>Леонова Т.</td>\n      <td>низкая читаемость. без специфики</td>\n      <td>6.00</td>\n      <td>низкая читаемость. без специфики</td>\n      <td>6.00</td>\n      <td>выражен характером пережаренных орехов</td>\n      <td>6.00</td>\n      <td>ниже среднего</td>\n      <td>1.0</td>\n      <td>6.00</td>\n      <td>низкая. слабо выражена</td>\n      <td>0.0</td>\n      <td>6.00</td>\n      <td>средняя</td>\n      <td>2.0</td>\n      <td>6.00</td>\n      <td>маслянистый</td>\n      <td>6.00</td>\n      <td>6.000000</td>\n    </tr>\n    <tr>\n      <th>142</th>\n      <td>104</td>\n      <td>Леонова Т.</td>\n      <td>низкая читаемость. без специфики</td>\n      <td>6.00</td>\n      <td>низкая читаемость. без специфики</td>\n      <td>6.00</td>\n      <td>выражено слабо</td>\n      <td>6.00</td>\n      <td>низкая</td>\n      <td>0.0</td>\n      <td>6.00</td>\n      <td>низкая. слабо выражена</td>\n      <td>0.0</td>\n      <td>6.00</td>\n      <td>выше среднего</td>\n      <td>3.0</td>\n      <td>6.00</td>\n      <td>пустое</td>\n      <td>6.00</td>\n      <td>6.000000</td>\n    </tr>\n    <tr>\n      <th>143</th>\n      <td>105</td>\n      <td>Леонова Т.</td>\n      <td>низкая читаемость. без специфики</td>\n      <td>6.00</td>\n      <td>низкая читаемость. без специфики</td>\n      <td>6.00</td>\n      <td>выражено слабо</td>\n      <td>6.00</td>\n      <td>низкая</td>\n      <td>0.0</td>\n      <td>6.00</td>\n      <td>низкая. слабо выражена</td>\n      <td>0.0</td>\n      <td>6.00</td>\n      <td>выше среднего</td>\n      <td>3.0</td>\n      <td>6.00</td>\n      <td>пустое</td>\n      <td>6.00</td>\n      <td>6.000000</td>\n    </tr>\n    <tr>\n      <th>144</th>\n      <td>106</td>\n      <td>Леонова Т.</td>\n      <td>низкая читаемость. без специфики</td>\n      <td>6.00</td>\n      <td>низкая читаемость. без специфики</td>\n      <td>6.00</td>\n      <td>выражено слабо</td>\n      <td>6.00</td>\n      <td>ниже сраднего</td>\n      <td>1.0</td>\n      <td>6.00</td>\n      <td>низкая. слабо выражена</td>\n      <td>0.0</td>\n      <td>6.00</td>\n      <td>выраженная неприятная</td>\n      <td>3.0</td>\n      <td>6.00</td>\n      <td>пустое</td>\n      <td>6.00</td>\n      <td>6.000000</td>\n    </tr>\n  </tbody>\n</table>\n<p>91 rows × 20 columns</p>\n</div>"
     },
     "execution_count": 51,
     "metadata": {},
     "output_type": "execute_result"
    }
   ],
   "source": [
    "df_tatiana = df[df['Дегустатор'] == \"Леонова Т.\"]\n",
    "df_tatiana['quality'] = df_tatiana[['балл_сладость', 'балл_горечь', 'балл_кислотность']].mean(axis=1)\n",
    "df_tatiana"
   ],
   "metadata": {
    "collapsed": false,
    "ExecuteTime": {
     "end_time": "2023-08-28T20:07:55.536418330Z",
     "start_time": "2023-08-28T20:07:55.503595431Z"
    }
   },
   "id": "46ed85680a9c81c5"
  },
  {
   "cell_type": "code",
   "execution_count": 52,
   "outputs": [
    {
     "data": {
      "text/plain": "       number_of_sample  балл_аромат  балл_букет  балл_послевкусие  \\\ncount         91.000000    91.000000   91.000000         91.000000   \nmean          52.879121     7.239011    7.156044          6.972527   \nstd           30.323748     0.958813    0.986290          0.896328   \nmin            1.000000     6.000000    6.000000          6.000000   \n25%           25.000000     6.000000    6.000000          6.000000   \n50%           55.000000     7.500000    7.250000          7.000000   \n75%           77.500000     8.000000    8.000000          7.875000   \nmax          106.000000     8.750000    9.000000          8.750000   \n\n       Интенсивность_кислотности  балл_кислотность  Интенсивность_сладости  \\\ncount                  91.000000         91.000000               91.000000   \nmean                    1.252747          6.983516                1.538462   \nstd                     1.287490          0.912720                1.176697   \nmin                     0.000000          6.000000                0.000000   \n25%                     0.000000          6.000000                0.000000   \n50%                     1.000000          7.000000                2.000000   \n75%                     2.000000          7.750000                2.000000   \nmax                     4.000000          9.000000                4.000000   \n\n       балл_сладость  Интенсивность_горечи  балл_горечь  балл_тело    quality  \ncount      91.000000             91.000000    91.000000  91.000000  91.000000  \nmean        6.964286              1.450549     6.865385   7.178571   6.937729  \nstd         0.795448              1.565345     0.776663   0.858200   0.781301  \nmin         6.000000              0.000000     6.000000   6.000000   6.000000  \n25%         6.000000              0.000000     6.000000   6.375000   6.083333  \n50%         7.000000              1.000000     7.000000   7.250000   6.833333  \n75%         7.750000              3.000000     7.625000   8.000000   7.583333  \nmax         8.750000              4.000000     8.000000   8.500000   8.416667  ",
      "text/html": "<div>\n<style scoped>\n    .dataframe tbody tr th:only-of-type {\n        vertical-align: middle;\n    }\n\n    .dataframe tbody tr th {\n        vertical-align: top;\n    }\n\n    .dataframe thead th {\n        text-align: right;\n    }\n</style>\n<table border=\"1\" class=\"dataframe\">\n  <thead>\n    <tr style=\"text-align: right;\">\n      <th></th>\n      <th>number_of_sample</th>\n      <th>балл_аромат</th>\n      <th>балл_букет</th>\n      <th>балл_послевкусие</th>\n      <th>Интенсивность_кислотности</th>\n      <th>балл_кислотность</th>\n      <th>Интенсивность_сладости</th>\n      <th>балл_сладость</th>\n      <th>Интенсивность_горечи</th>\n      <th>балл_горечь</th>\n      <th>балл_тело</th>\n      <th>quality</th>\n    </tr>\n  </thead>\n  <tbody>\n    <tr>\n      <th>count</th>\n      <td>91.000000</td>\n      <td>91.000000</td>\n      <td>91.000000</td>\n      <td>91.000000</td>\n      <td>91.000000</td>\n      <td>91.000000</td>\n      <td>91.000000</td>\n      <td>91.000000</td>\n      <td>91.000000</td>\n      <td>91.000000</td>\n      <td>91.000000</td>\n      <td>91.000000</td>\n    </tr>\n    <tr>\n      <th>mean</th>\n      <td>52.879121</td>\n      <td>7.239011</td>\n      <td>7.156044</td>\n      <td>6.972527</td>\n      <td>1.252747</td>\n      <td>6.983516</td>\n      <td>1.538462</td>\n      <td>6.964286</td>\n      <td>1.450549</td>\n      <td>6.865385</td>\n      <td>7.178571</td>\n      <td>6.937729</td>\n    </tr>\n    <tr>\n      <th>std</th>\n      <td>30.323748</td>\n      <td>0.958813</td>\n      <td>0.986290</td>\n      <td>0.896328</td>\n      <td>1.287490</td>\n      <td>0.912720</td>\n      <td>1.176697</td>\n      <td>0.795448</td>\n      <td>1.565345</td>\n      <td>0.776663</td>\n      <td>0.858200</td>\n      <td>0.781301</td>\n    </tr>\n    <tr>\n      <th>min</th>\n      <td>1.000000</td>\n      <td>6.000000</td>\n      <td>6.000000</td>\n      <td>6.000000</td>\n      <td>0.000000</td>\n      <td>6.000000</td>\n      <td>0.000000</td>\n      <td>6.000000</td>\n      <td>0.000000</td>\n      <td>6.000000</td>\n      <td>6.000000</td>\n      <td>6.000000</td>\n    </tr>\n    <tr>\n      <th>25%</th>\n      <td>25.000000</td>\n      <td>6.000000</td>\n      <td>6.000000</td>\n      <td>6.000000</td>\n      <td>0.000000</td>\n      <td>6.000000</td>\n      <td>0.000000</td>\n      <td>6.000000</td>\n      <td>0.000000</td>\n      <td>6.000000</td>\n      <td>6.375000</td>\n      <td>6.083333</td>\n    </tr>\n    <tr>\n      <th>50%</th>\n      <td>55.000000</td>\n      <td>7.500000</td>\n      <td>7.250000</td>\n      <td>7.000000</td>\n      <td>1.000000</td>\n      <td>7.000000</td>\n      <td>2.000000</td>\n      <td>7.000000</td>\n      <td>1.000000</td>\n      <td>7.000000</td>\n      <td>7.250000</td>\n      <td>6.833333</td>\n    </tr>\n    <tr>\n      <th>75%</th>\n      <td>77.500000</td>\n      <td>8.000000</td>\n      <td>8.000000</td>\n      <td>7.875000</td>\n      <td>2.000000</td>\n      <td>7.750000</td>\n      <td>2.000000</td>\n      <td>7.750000</td>\n      <td>3.000000</td>\n      <td>7.625000</td>\n      <td>8.000000</td>\n      <td>7.583333</td>\n    </tr>\n    <tr>\n      <th>max</th>\n      <td>106.000000</td>\n      <td>8.750000</td>\n      <td>9.000000</td>\n      <td>8.750000</td>\n      <td>4.000000</td>\n      <td>9.000000</td>\n      <td>4.000000</td>\n      <td>8.750000</td>\n      <td>4.000000</td>\n      <td>8.000000</td>\n      <td>8.500000</td>\n      <td>8.416667</td>\n    </tr>\n  </tbody>\n</table>\n</div>"
     },
     "execution_count": 52,
     "metadata": {},
     "output_type": "execute_result"
    }
   ],
   "source": [
    "df_tatiana.describe()\n"
   ],
   "metadata": {
    "collapsed": false,
    "ExecuteTime": {
     "end_time": "2023-08-28T20:08:03.855214539Z",
     "start_time": "2023-08-28T20:08:03.823010643Z"
    }
   },
   "id": "5a324d664e7bb330"
  },
  {
   "cell_type": "code",
   "execution_count": 53,
   "outputs": [
    {
     "name": "stderr",
     "output_type": "stream",
     "text": [
      "/tmp/ipykernel_14255/3106158515.py:1: SettingWithCopyWarning: \n",
      "A value is trying to be set on a copy of a slice from a DataFrame.\n",
      "Try using .loc[row_indexer,col_indexer] = value instead\n",
      "\n",
      "See the caveats in the documentation: https://pandas.pydata.org/pandas-docs/stable/user_guide/indexing.html#returning-a-view-versus-a-copy\n",
      "  df_tatiana['quality'] = df_tatiana['quality'].astype(float)\n",
      "/tmp/ipykernel_14255/3106158515.py:4: SettingWithCopyWarning: \n",
      "A value is trying to be set on a copy of a slice from a DataFrame.\n",
      "Try using .loc[row_indexer,col_indexer] = value instead\n",
      "\n",
      "See the caveats in the documentation: https://pandas.pydata.org/pandas-docs/stable/user_guide/indexing.html#returning-a-view-versus-a-copy\n",
      "  df_tatiana['quality'] = df_tatiana['quality'].replace([1, 10], ['bad', 'good'])\n"
     ]
    }
   ],
   "source": [
    "df_tatiana['quality'] = df_tatiana['quality'].astype(float)\n",
    "df_tatiana.loc[(df_tatiana.quality <= 7.0), 'quality'] = 1\n",
    "df_tatiana.loc[(df_tatiana.quality > 7.0), 'quality'] = 10\n",
    "df_tatiana['quality'] = df_tatiana['quality'].replace([1, 10], ['bad', 'good'])"
   ],
   "metadata": {
    "collapsed": false,
    "ExecuteTime": {
     "end_time": "2023-08-28T20:08:22.133547262Z",
     "start_time": "2023-08-28T20:08:22.092734502Z"
    }
   },
   "id": "fe0a8128042a90cc"
  },
  {
   "cell_type": "code",
   "execution_count": 55,
   "outputs": [
    {
     "name": "stderr",
     "output_type": "stream",
     "text": [
      "/home/rodion/PycharmProjects/coffee/secondary_functions/concat_card_curves.py:16: SettingWithCopyWarning: \n",
      "A value is trying to be set on a copy of a slice from a DataFrame.\n",
      "Try using .loc[row_indexer,col_indexer] = value instead\n",
      "\n",
      "See the caveats in the documentation: https://pandas.pydata.org/pandas-docs/stable/user_guide/indexing.html#returning-a-view-versus-a-copy\n",
      "  df_card['number_of_sample'] = df_card['number_of_sample'].astype('str')\n",
      "/home/rodion/PycharmProjects/coffee/secondary_functions/concat_card_curves.py:16: SettingWithCopyWarning: \n",
      "A value is trying to be set on a copy of a slice from a DataFrame.\n",
      "Try using .loc[row_indexer,col_indexer] = value instead\n",
      "\n",
      "See the caveats in the documentation: https://pandas.pydata.org/pandas-docs/stable/user_guide/indexing.html#returning-a-view-versus-a-copy\n",
      "  df_card['number_of_sample'] = df_card['number_of_sample'].astype('str')\n",
      "/home/rodion/PycharmProjects/coffee/secondary_functions/concat_card_curves.py:16: SettingWithCopyWarning: \n",
      "A value is trying to be set on a copy of a slice from a DataFrame.\n",
      "Try using .loc[row_indexer,col_indexer] = value instead\n",
      "\n",
      "See the caveats in the documentation: https://pandas.pydata.org/pandas-docs/stable/user_guide/indexing.html#returning-a-view-versus-a-copy\n",
      "  df_card['number_of_sample'] = df_card['number_of_sample'].astype('str')\n",
      "/home/rodion/PycharmProjects/coffee/secondary_functions/concat_card_curves.py:16: SettingWithCopyWarning: \n",
      "A value is trying to be set on a copy of a slice from a DataFrame.\n",
      "Try using .loc[row_indexer,col_indexer] = value instead\n",
      "\n",
      "See the caveats in the documentation: https://pandas.pydata.org/pandas-docs/stable/user_guide/indexing.html#returning-a-view-versus-a-copy\n",
      "  df_card['number_of_sample'] = df_card['number_of_sample'].astype('str')\n"
     ]
    },
    {
     "name": "stdout",
     "output_type": "stream",
     "text": [
      "ready!\n",
      "ready!\n",
      "ready!\n",
      "ready!\n"
     ]
    }
   ],
   "source": [
    "dictionary = concat_card_curves(df_tatiana[['number_of_sample', 'quality']], '/home/rodion/PycharmProjects/coffee/dataset_coffee/clear_data/all_data_with_names')\n",
    "dataset_path = '/home/rodion/PycharmProjects/coffee/classification/datasets/dataset_good_bad_coffee'\n",
    "for key in dictionary.keys():\n",
    "    filename = key + '_good_bad_classification.csv'\n",
    "    dictionary[key].to_csv(os.path.join(dataset_path, filename), index=False)\n",
    "    print('ready!')"
   ],
   "metadata": {
    "collapsed": false,
    "ExecuteTime": {
     "end_time": "2023-08-28T20:08:49.146525638Z",
     "start_time": "2023-08-28T20:08:45.937015684Z"
    }
   },
   "id": "be7c028d7febc88d"
  },
  {
   "cell_type": "code",
   "execution_count": 3,
   "outputs": [
    {
     "data": {
      "text/plain": "           0         1         2         3         4         5         6  \\\n0   0.000002  0.000003  0.000003  0.000003  0.000003  0.000003  0.000003   \n1   0.000010  0.000011  0.000012  0.000013  0.000014  0.000015  0.000015   \n2   0.000010  0.000010  0.000011  0.000012  0.000012  0.000012  0.000013   \n3   0.000006  0.000006  0.000007  0.000007  0.000007  0.000007  0.000007   \n4   0.000003  0.000004  0.000004  0.000004  0.000004  0.000004  0.000004   \n..       ...       ...       ...       ...       ...       ...       ...   \n85  0.000009  0.000010  0.000010  0.000011  0.000011  0.000011  0.000012   \n86  0.000020  0.000021  0.000022  0.000023  0.000024  0.000026  0.000026   \n87  0.000012  0.000014  0.000014  0.000015  0.000015  0.000015  0.000016   \n88  0.000016  0.000018  0.000019  0.000021  0.000022  0.000023  0.000025   \n89  0.000014  0.000015  0.000015  0.000016  0.000018  0.000018  0.000018   \n\n           7         8         9  ...      5690      5691      5692      5693  \\\n0   0.000004  0.000003  0.000004  ...  0.000008  0.000009  0.000010  0.000010   \n1   0.000016  0.000017  0.000018  ...  0.000015  0.000018  0.000019  0.000021   \n2   0.000013  0.000013  0.000014  ...  0.000019  0.000021  0.000023  0.000025   \n3   0.000007  0.000007  0.000007  ...  0.000007  0.000008  0.000009  0.000010   \n4   0.000005  0.000005  0.000005  ...  0.000006  0.000007  0.000007  0.000008   \n..       ...       ...       ...  ...       ...       ...       ...       ...   \n85  0.000012  0.000012  0.000012  ...  0.000010  0.000011  0.000012  0.000013   \n86  0.000027  0.000027  0.000028  ...  0.000010  0.000010  0.000012  0.000012   \n87  0.000016  0.000016  0.000016  ...  0.000008  0.000009  0.000010  0.000010   \n88  0.000026  0.000027  0.000028  ...  0.000013  0.000014  0.000016  0.000018   \n89  0.000019  0.000020  0.000020  ...  0.000007  0.000008  0.000009  0.000010   \n\n        5694      5695      5696      5697  number_of_sample  quality  \n0   0.000011  0.000012  0.000013  0.000013                 8     good  \n1   0.000023  0.000024  0.000026  0.000028                 1     good  \n2   0.000027  0.000029  0.000031  0.000032                 2      bad  \n3   0.000010  0.000011  0.000012  0.000013                 3     good  \n4   0.000009  0.000010  0.000011  0.000012                 4      bad  \n..       ...       ...       ...       ...               ...      ...  \n85  0.000014  0.000015  0.000016  0.000017               102      bad  \n86  0.000013  0.000014  0.000015  0.000016               103      bad  \n87  0.000012  0.000012  0.000013  0.000015               104      bad  \n88  0.000019  0.000021  0.000023  0.000026               105      bad  \n89  0.000011  0.000012  0.000014  0.000015               106      bad  \n\n[90 rows x 5700 columns]",
      "text/html": "<div>\n<style scoped>\n    .dataframe tbody tr th:only-of-type {\n        vertical-align: middle;\n    }\n\n    .dataframe tbody tr th {\n        vertical-align: top;\n    }\n\n    .dataframe thead th {\n        text-align: right;\n    }\n</style>\n<table border=\"1\" class=\"dataframe\">\n  <thead>\n    <tr style=\"text-align: right;\">\n      <th></th>\n      <th>0</th>\n      <th>1</th>\n      <th>2</th>\n      <th>3</th>\n      <th>4</th>\n      <th>5</th>\n      <th>6</th>\n      <th>7</th>\n      <th>8</th>\n      <th>9</th>\n      <th>...</th>\n      <th>5690</th>\n      <th>5691</th>\n      <th>5692</th>\n      <th>5693</th>\n      <th>5694</th>\n      <th>5695</th>\n      <th>5696</th>\n      <th>5697</th>\n      <th>number_of_sample</th>\n      <th>quality</th>\n    </tr>\n  </thead>\n  <tbody>\n    <tr>\n      <th>0</th>\n      <td>0.000002</td>\n      <td>0.000003</td>\n      <td>0.000003</td>\n      <td>0.000003</td>\n      <td>0.000003</td>\n      <td>0.000003</td>\n      <td>0.000003</td>\n      <td>0.000004</td>\n      <td>0.000003</td>\n      <td>0.000004</td>\n      <td>...</td>\n      <td>0.000008</td>\n      <td>0.000009</td>\n      <td>0.000010</td>\n      <td>0.000010</td>\n      <td>0.000011</td>\n      <td>0.000012</td>\n      <td>0.000013</td>\n      <td>0.000013</td>\n      <td>8</td>\n      <td>good</td>\n    </tr>\n    <tr>\n      <th>1</th>\n      <td>0.000010</td>\n      <td>0.000011</td>\n      <td>0.000012</td>\n      <td>0.000013</td>\n      <td>0.000014</td>\n      <td>0.000015</td>\n      <td>0.000015</td>\n      <td>0.000016</td>\n      <td>0.000017</td>\n      <td>0.000018</td>\n      <td>...</td>\n      <td>0.000015</td>\n      <td>0.000018</td>\n      <td>0.000019</td>\n      <td>0.000021</td>\n      <td>0.000023</td>\n      <td>0.000024</td>\n      <td>0.000026</td>\n      <td>0.000028</td>\n      <td>1</td>\n      <td>good</td>\n    </tr>\n    <tr>\n      <th>2</th>\n      <td>0.000010</td>\n      <td>0.000010</td>\n      <td>0.000011</td>\n      <td>0.000012</td>\n      <td>0.000012</td>\n      <td>0.000012</td>\n      <td>0.000013</td>\n      <td>0.000013</td>\n      <td>0.000013</td>\n      <td>0.000014</td>\n      <td>...</td>\n      <td>0.000019</td>\n      <td>0.000021</td>\n      <td>0.000023</td>\n      <td>0.000025</td>\n      <td>0.000027</td>\n      <td>0.000029</td>\n      <td>0.000031</td>\n      <td>0.000032</td>\n      <td>2</td>\n      <td>bad</td>\n    </tr>\n    <tr>\n      <th>3</th>\n      <td>0.000006</td>\n      <td>0.000006</td>\n      <td>0.000007</td>\n      <td>0.000007</td>\n      <td>0.000007</td>\n      <td>0.000007</td>\n      <td>0.000007</td>\n      <td>0.000007</td>\n      <td>0.000007</td>\n      <td>0.000007</td>\n      <td>...</td>\n      <td>0.000007</td>\n      <td>0.000008</td>\n      <td>0.000009</td>\n      <td>0.000010</td>\n      <td>0.000010</td>\n      <td>0.000011</td>\n      <td>0.000012</td>\n      <td>0.000013</td>\n      <td>3</td>\n      <td>good</td>\n    </tr>\n    <tr>\n      <th>4</th>\n      <td>0.000003</td>\n      <td>0.000004</td>\n      <td>0.000004</td>\n      <td>0.000004</td>\n      <td>0.000004</td>\n      <td>0.000004</td>\n      <td>0.000004</td>\n      <td>0.000005</td>\n      <td>0.000005</td>\n      <td>0.000005</td>\n      <td>...</td>\n      <td>0.000006</td>\n      <td>0.000007</td>\n      <td>0.000007</td>\n      <td>0.000008</td>\n      <td>0.000009</td>\n      <td>0.000010</td>\n      <td>0.000011</td>\n      <td>0.000012</td>\n      <td>4</td>\n      <td>bad</td>\n    </tr>\n    <tr>\n      <th>...</th>\n      <td>...</td>\n      <td>...</td>\n      <td>...</td>\n      <td>...</td>\n      <td>...</td>\n      <td>...</td>\n      <td>...</td>\n      <td>...</td>\n      <td>...</td>\n      <td>...</td>\n      <td>...</td>\n      <td>...</td>\n      <td>...</td>\n      <td>...</td>\n      <td>...</td>\n      <td>...</td>\n      <td>...</td>\n      <td>...</td>\n      <td>...</td>\n      <td>...</td>\n      <td>...</td>\n    </tr>\n    <tr>\n      <th>85</th>\n      <td>0.000009</td>\n      <td>0.000010</td>\n      <td>0.000010</td>\n      <td>0.000011</td>\n      <td>0.000011</td>\n      <td>0.000011</td>\n      <td>0.000012</td>\n      <td>0.000012</td>\n      <td>0.000012</td>\n      <td>0.000012</td>\n      <td>...</td>\n      <td>0.000010</td>\n      <td>0.000011</td>\n      <td>0.000012</td>\n      <td>0.000013</td>\n      <td>0.000014</td>\n      <td>0.000015</td>\n      <td>0.000016</td>\n      <td>0.000017</td>\n      <td>102</td>\n      <td>bad</td>\n    </tr>\n    <tr>\n      <th>86</th>\n      <td>0.000020</td>\n      <td>0.000021</td>\n      <td>0.000022</td>\n      <td>0.000023</td>\n      <td>0.000024</td>\n      <td>0.000026</td>\n      <td>0.000026</td>\n      <td>0.000027</td>\n      <td>0.000027</td>\n      <td>0.000028</td>\n      <td>...</td>\n      <td>0.000010</td>\n      <td>0.000010</td>\n      <td>0.000012</td>\n      <td>0.000012</td>\n      <td>0.000013</td>\n      <td>0.000014</td>\n      <td>0.000015</td>\n      <td>0.000016</td>\n      <td>103</td>\n      <td>bad</td>\n    </tr>\n    <tr>\n      <th>87</th>\n      <td>0.000012</td>\n      <td>0.000014</td>\n      <td>0.000014</td>\n      <td>0.000015</td>\n      <td>0.000015</td>\n      <td>0.000015</td>\n      <td>0.000016</td>\n      <td>0.000016</td>\n      <td>0.000016</td>\n      <td>0.000016</td>\n      <td>...</td>\n      <td>0.000008</td>\n      <td>0.000009</td>\n      <td>0.000010</td>\n      <td>0.000010</td>\n      <td>0.000012</td>\n      <td>0.000012</td>\n      <td>0.000013</td>\n      <td>0.000015</td>\n      <td>104</td>\n      <td>bad</td>\n    </tr>\n    <tr>\n      <th>88</th>\n      <td>0.000016</td>\n      <td>0.000018</td>\n      <td>0.000019</td>\n      <td>0.000021</td>\n      <td>0.000022</td>\n      <td>0.000023</td>\n      <td>0.000025</td>\n      <td>0.000026</td>\n      <td>0.000027</td>\n      <td>0.000028</td>\n      <td>...</td>\n      <td>0.000013</td>\n      <td>0.000014</td>\n      <td>0.000016</td>\n      <td>0.000018</td>\n      <td>0.000019</td>\n      <td>0.000021</td>\n      <td>0.000023</td>\n      <td>0.000026</td>\n      <td>105</td>\n      <td>bad</td>\n    </tr>\n    <tr>\n      <th>89</th>\n      <td>0.000014</td>\n      <td>0.000015</td>\n      <td>0.000015</td>\n      <td>0.000016</td>\n      <td>0.000018</td>\n      <td>0.000018</td>\n      <td>0.000018</td>\n      <td>0.000019</td>\n      <td>0.000020</td>\n      <td>0.000020</td>\n      <td>...</td>\n      <td>0.000007</td>\n      <td>0.000008</td>\n      <td>0.000009</td>\n      <td>0.000010</td>\n      <td>0.000011</td>\n      <td>0.000012</td>\n      <td>0.000014</td>\n      <td>0.000015</td>\n      <td>106</td>\n      <td>bad</td>\n    </tr>\n  </tbody>\n</table>\n<p>90 rows × 5700 columns</p>\n</div>"
     },
     "execution_count": 3,
     "metadata": {},
     "output_type": "execute_result"
    }
   ],
   "source": [
    "df_quality = pd.read_csv('/home/rodion/PycharmProjects/coffee/classification/datasets/dataset_good_bad_coffee/au_good_bad_classification.csv')\n",
    "df_quality"
   ],
   "metadata": {
    "collapsed": false,
    "ExecuteTime": {
     "end_time": "2023-08-29T08:17:38.353598383Z",
     "start_time": "2023-08-29T08:17:38.217309561Z"
    }
   },
   "id": "1b720ce6cf842a30"
  },
  {
   "cell_type": "code",
   "execution_count": null,
   "outputs": [],
   "source": [],
   "metadata": {
    "collapsed": false
   },
   "id": "fe0f29703a3d689c"
  }
 ],
 "metadata": {
  "kernelspec": {
   "display_name": "Python 3",
   "language": "python",
   "name": "python3"
  },
  "language_info": {
   "codemirror_mode": {
    "name": "ipython",
    "version": 2
   },
   "file_extension": ".py",
   "mimetype": "text/x-python",
   "name": "python",
   "nbconvert_exporter": "python",
   "pygments_lexer": "ipython2",
   "version": "2.7.6"
  }
 },
 "nbformat": 4,
 "nbformat_minor": 5
}
